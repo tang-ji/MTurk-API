{
 "cells": [
  {
   "cell_type": "code",
   "execution_count": 1,
   "metadata": {},
   "outputs": [],
   "source": [
    "import boto3\n",
    "from aws_mturk_key import *"
   ]
  },
  {
   "cell_type": "code",
   "execution_count": 85,
   "metadata": {},
   "outputs": [],
   "source": [
    "from bs4 import BeautifulSoup\n",
    "\n",
    "soup = BeautifulSoup(open(\"my_question.xml\"))"
   ]
  },
  {
   "cell_type": "code",
   "execution_count": 2,
   "metadata": {},
   "outputs": [
    {
     "name": "stdout",
     "output_type": "stream",
     "text": [
      "10000.00\n"
     ]
    }
   ],
   "source": [
    "region_name = 'us-east-1'\n",
    "\n",
    "endpoint_url = 'https://mturk-requester-sandbox.us-east-1.amazonaws.com'\n",
    "\n",
    "# Uncomment this line to use in production\n",
    "# endpoint_url = 'https://mturk-requester.us-east-1.amazonaws.com'\n",
    "\n",
    "client = boto3.client(\n",
    "    'mturk',\n",
    "    endpoint_url=endpoint_url,\n",
    "    region_name=region_name,\n",
    "    aws_access_key_id=aws_access_key_id,\n",
    "    aws_secret_access_key=aws_secret_access_key,\n",
    ")\n",
    "\n",
    "# This will return $10,000.00 in the MTurk Developer Sandbox\n",
    "print(client.get_account_balance()['AvailableBalance'])"
   ]
  },
  {
   "cell_type": "markdown",
   "metadata": {},
   "source": [
    "# Create Hit Sample"
   ]
  },
  {
   "cell_type": "code",
   "execution_count": 42,
   "metadata": {},
   "outputs": [],
   "source": [
    "import sys\n",
    "import boto3\n",
    "\n",
    "create_hits_in_live = False\n",
    "\n",
    "environments = {\n",
    "        \"live\": {\n",
    "            \"endpoint\": \"https://mturk-requester.us-east-1.amazonaws.com\",\n",
    "            \"preview\": \"https://www.mturk.com/mturk/preview\",\n",
    "            \"manage\": \"https://requester.mturk.com/mturk/manageHITs\",\n",
    "            \"reward\": \"0.00\"\n",
    "        },\n",
    "        \"sandbox\": {\n",
    "            \"endpoint\": \"https://mturk-requester-sandbox.us-east-1.amazonaws.com\",\n",
    "            \"preview\": \"https://workersandbox.mturk.com/mturk/preview\",\n",
    "            \"manage\": \"https://requestersandbox.mturk.com/mturk/manageHITs\",\n",
    "            \"reward\": \"0.1\"\n",
    "        },\n",
    "}\n",
    "mturk_environment = environments[\"live\"] if create_hits_in_live else environments[\"sandbox\"]"
   ]
  },
  {
   "cell_type": "code",
   "execution_count": 104,
   "metadata": {},
   "outputs": [
    {
     "name": "stdout",
     "output_type": "stream",
     "text": [
      "Your account balance is 10000.00\n",
      "\n",
      "Created HIT: 336OE47KI2Y5ZHMJ1UTQUBCIZJMWV0\n",
      "\n",
      "You can work the HIT here:\n",
      "https://workersandbox.mturk.com/mturk/preview?groupId=3U729HRE5ASCILF2WV495PFWKOTMEA\n",
      "\n",
      "And see results here:\n",
      "https://requestersandbox.mturk.com/mturk/manageHITs\n"
     ]
    }
   ],
   "source": [
    "# use profile if one was passed as an arg, otherwise\n",
    "# profile_name = sys.argv[1] if len(sys.argv) >= 2 else None\n",
    "# session = boto3.Session(profile_name=profile_name)\n",
    "client = boto3.client(\n",
    "    service_name='mturk',\n",
    "    region_name='us-east-1',\n",
    "    endpoint_url=mturk_environment['endpoint'],\n",
    "    aws_access_key_id=aws_access_key_id,\n",
    "    aws_secret_access_key=aws_secret_access_key,\n",
    ")\n",
    "\n",
    "# Test that you can connect to the API by checking your account balance\n",
    "user_balance = client.get_account_balance()\n",
    "\n",
    "# In Sandbox this always returns $10,000. In live, it will be your acutal balance.\n",
    "print(\"Your account balance is {}\".format(user_balance['AvailableBalance']))\n",
    "\n",
    "# The question we ask the workers is contained in this file.\n",
    "question_sample = open(\"my_question.xml\", \"r\").read().format(\"\".join(open(\"question.html\", \"r\").readlines()))\n",
    "\n",
    "# Example of using qualification to restrict responses to Workers who have had\n",
    "# at least 80% of their assignments approved. See:\n",
    "# http://docs.aws.amazon.com/AWSMechTurk/latest/AWSMturkAPI/ApiReference_QualificationRequirementDataStructureArticle.html#ApiReference_QualificationType-IDs\n",
    "worker_requirements = [{\n",
    "    'QualificationTypeId': '000000000000000000L0',\n",
    "    'Comparator': 'GreaterThanOrEqualTo',\n",
    "    'IntegerValues': [80],\n",
    "    'RequiredToPreview': True,\n",
    "}]\n",
    "\n",
    "# Create the HIT\n",
    "response = client.create_hit(\n",
    "    MaxAssignments=10,\n",
    "    LifetimeInSeconds=28*24*60*60,\n",
    "    AssignmentDurationInSeconds=2*24*60*60,\n",
    "    Reward=mturk_environment['reward'],\n",
    "    Title='The Memory Game (~5min, bonus up to $2.5)',\n",
    "    Keywords='memorability, image, memory',\n",
    "    Description='An image-based memorability test.',\n",
    "    Question=question_sample,\n",
    "    QualificationRequirements=worker_requirements,\n",
    ")\n",
    "\n",
    "# The response included several fields that will be helpful later\n",
    "hit_type_id = response['HIT']['HITTypeId']\n",
    "hit_id = response['HIT']['HITId']\n",
    "print(\"\\nCreated HIT: {}\".format(hit_id))\n",
    "\n",
    "print(\"\\nYou can work the HIT here:\")\n",
    "print(mturk_environment['preview'] + \"?groupId={}\".format(hit_type_id))\n",
    "\n",
    "print (\"\\nAnd see results here:\")\n",
    "print (mturk_environment['manage'])"
   ]
  },
  {
   "cell_type": "markdown",
   "metadata": {},
   "source": [
    "# Retrieve And Approve Hit Sample"
   ]
  },
  {
   "cell_type": "code",
   "execution_count": 105,
   "metadata": {},
   "outputs": [],
   "source": [
    "import sys\n",
    "import boto3\n",
    "from xml.dom.minidom import parseString\n",
    "\n",
    "# hit_id = \"3JTPR5MTZSQX6NDN6PSA22OOZOB5K6\"\n",
    "\n",
    "# By default, we use the free-to-use Sandbox\n",
    "create_hits_in_live = False\n",
    "\n",
    "environments = {\n",
    "        \"live\": {\n",
    "            \"endpoint\": \"https://mturk-requester.us-east-1.amazonaws.com\",\n",
    "            \"preview\": \"https://www.mturk.com/mturk/preview\",\n",
    "            \"manage\": \"https://requester.mturk.com/mturk/manageHITs\",\n",
    "            \"reward\": \"0.00\"\n",
    "        },\n",
    "        \"sandbox\": {\n",
    "            \"endpoint\": \"https://mturk-requester-sandbox.us-east-1.amazonaws.com\",\n",
    "            \"preview\": \"https://workersandbox.mturk.com/mturk/preview\",\n",
    "            \"manage\": \"https://requestersandbox.mturk.com/mturk/manageHITs\",\n",
    "            \"reward\": \"0.1\"\n",
    "        },\n",
    "}\n",
    "mturk_environment = environments[\"live\"] if create_hits_in_live else environments[\"sandbox\"]\n",
    "\n",
    "client = boto3.client(\n",
    "    service_name='mturk',\n",
    "    region_name='us-east-1',\n",
    "    endpoint_url=mturk_environment['endpoint'],\n",
    "    aws_access_key_id=aws_access_key_id,\n",
    "    aws_secret_access_key=aws_secret_access_key,\n",
    ")"
   ]
  },
  {
   "cell_type": "code",
   "execution_count": 106,
   "metadata": {},
   "outputs": [
    {
     "name": "stdout",
     "output_type": "stream",
     "text": [
      "Hit 336OE47KI2Y5ZHMJ1UTQUBCIZJMWV0 status: Assignable\n",
      "The number of submitted assignments is 1\n",
      "[Submitted] The Worker with ID A1J0G097HN1OUA gave the answer \"{'nickname': 'rdfg', 'password': 'asdas'}\"\n"
     ]
    }
   ],
   "source": [
    "hit = client.get_hit(HITId=hit_id)\n",
    "print ('Hit {} status: {}'.format(hit_id, hit['HIT']['HITStatus']))\n",
    "response = client.list_assignments_for_hit(\n",
    "    HITId=hit_id,\n",
    "    AssignmentStatuses=['Submitted', 'Approved'],\n",
    "    MaxResults=10,\n",
    ")\n",
    "\n",
    "def get_answer_of_xml(answer_xml):\n",
    "    ans_dict = {}\n",
    "    for answer in answer_xml.getElementsByTagName('Answer'):\n",
    "        quest = answer.getElementsByTagName(\"QuestionIdentifier\")[0].childNodes[0].nodeValue\n",
    "        ans = answer.getElementsByTagName(\"FreeText\")[0].childNodes[0].nodeValue\n",
    "        ans_dict[quest] = ans\n",
    "    return ans_dict\n",
    "\n",
    "assignments = response['Assignments']\n",
    "print ('The number of submitted assignments is {}'.format(len(assignments)))\n",
    "for assignment in assignments:\n",
    "    worker_id = assignment['WorkerId']\n",
    "    assignment_id = assignment['AssignmentId']\n",
    "    answer_xml = parseString(assignment['Answer'])\n",
    "\n",
    "    # the answer is an xml document. we pull out the value of the first\n",
    "    # //QuestionFormAnswers/Answer/FreeText\n",
    "    answer = get_answer_of_xml(answer_xml)\n",
    "\n",
    "#     print('The Worker with ID {} submitted assignment {} and gave the answer \"{}\"'.format(worker_id, assignment_id, only_answer))\n",
    "    print('[{}] The Worker with ID {} gave the answer \"{}\"'.format(assignment['AssignmentStatus'], worker_id, answer))\n",
    "\n",
    "    # Approve the Assignment (if it hasn't already been approved)\n",
    "#     if assignment['AssignmentStatus'] == 'Submitted':\n",
    "#         print ('Approving Assignment {}'.format(assignment_id))\n",
    "#         client.approve_assignment(\n",
    "#             AssignmentId=assignment_id,\n",
    "#             RequesterFeedback='good',\n",
    "#             OverrideRejection=False,\n",
    "#         )\n",
    "    client.reject_assignment(\n",
    "        AssignmentId=assignment_id,\n",
    "        RequesterFeedback='Too much invalid games',\n",
    "    )"
   ]
  },
  {
   "cell_type": "code",
   "execution_count": null,
   "metadata": {},
   "outputs": [],
   "source": []
  }
 ],
 "metadata": {
  "kernelspec": {
   "display_name": "Python 3",
   "language": "python",
   "name": "python3"
  },
  "language_info": {
   "codemirror_mode": {
    "name": "ipython",
    "version": 3
   },
   "file_extension": ".py",
   "mimetype": "text/x-python",
   "name": "python",
   "nbconvert_exporter": "python",
   "pygments_lexer": "ipython3",
   "version": "3.7.7"
  }
 },
 "nbformat": 4,
 "nbformat_minor": 4
}
